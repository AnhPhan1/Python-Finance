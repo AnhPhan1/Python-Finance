{
 "cells": [
  {
   "cell_type": "code",
   "execution_count": null,
   "id": "55104508",
   "metadata": {
    "scrolled": true
   },
   "outputs": [],
   "source": [
    "#Author: Anh Phan (GitHub: @anhphan1, Email: anhphan@udel.edu, Phone: (302) 345-5885)\n",
    "\n",
    "%pip install yfinance\n",
    "import yfinance as yf\n",
    "import numpy as np\n",
    "import pandas as pd\n",
    "import matplotlib.pyplot as plt\n",
    "from sklearn.preprocessing import MinMaxScaler\n",
    "from sklearn.metrics import mean_squared_error\n",
    "%pip install keras\n",
    "%pip install tensorflow\n",
    "import tensorflow as tf\n",
    "from keras.models import Sequential\n",
    "from keras.layers import Dense, LSTM"
   ]
  },
  {
   "cell_type": "code",
   "execution_count": null,
   "id": "756d8e6b",
   "metadata": {},
   "outputs": [],
   "source": [
    "# The code here takes the ticker symbol from any publicly traded company and downloads the stock price data from Yahoo Finance.\n",
    "stock = 'AAPL'\n",
    "data = yf.download(stock, start='2020-01-01', end='2022-01-01')"
   ]
  },
  {
   "cell_type": "code",
   "execution_count": 3,
   "id": "784c8c45",
   "metadata": {},
   "outputs": [],
   "source": [
    "data['Daily_Return'] = data['Close'].pct_change().fillna(0)\n",
    "data['Volatility'] = data['Daily_Return'].rolling(window=60).std().fillna(0)"
   ]
  },
  {
   "cell_type": "code",
   "execution_count": null,
   "id": "2c27902c",
   "metadata": {},
   "outputs": [],
   "source": [
    "plt.figure(figsize=(12,6))\n",
    "plt.title('Historical Volatility of ' + stock)\n",
    "plt.xlabel('Date')\n",
    "plt.ylabel('Volatility')\n",
    "plt.plot(data['Volatility'])\n",
    "plt.show()"
   ]
  },
  {
   "cell_type": "code",
   "execution_count": null,
   "id": "174d8ff9",
   "metadata": {},
   "outputs": [],
   "source": [
    "scaled_volatility = scaler.fit_transform(data['Volatility'].values.reshape(-1, 1))"
   ]
  },
  {
   "cell_type": "code",
   "execution_count": null,
   "id": "ba616a16",
   "metadata": {},
   "outputs": [],
   "source": [
    "train_volatility = scaled_volatility[0:int(len(scaled_volatility)*0.95)]\n",
    "x_train_vol, y_train_vol = [], []\n",
    "for i in range(60, len(train_volatility)):\n",
    "    x_train_vol.append(train_volatility[i-60:i, 0])\n",
    "    y_train_vol.append(train_volatility[i, 0])\n",
    "x_train_vol, y_train_vol = np.array(x_train_vol), np.array(y_train_vol)\n",
    "x_train_vol = np.reshape(x_train_vol, (x_train_vol.shape[0], x_train_vol.shape[1], 1))\n"
   ]
  },
  {
   "cell_type": "code",
   "execution_count": null,
   "id": "940062ac",
   "metadata": {},
   "outputs": [],
   "source": [
    "model_volatility = Sequential()\n",
    "model_volatility.add(LSTM(units=50, return_sequences=True, input_shape=(x_train_vol.shape[1], 1)))\n",
    "model_volatility.add(LSTM(units=50))\n",
    "model_volatility.add(Dense(1))\n",
    "model_volatility.compile(optimizer='adam', loss='mean_squared_error')\n",
    "model_volatility.fit(x_train_vol, y_train_vol, epochs=10, batch_size=64)"
   ]
  },
  {
   "cell_type": "code",
   "execution_count": null,
   "id": "362d5d40",
   "metadata": {},
   "outputs": [],
   "source": [
    "test_volatility = scaled_volatility[int(len(scaled_volatility)*0.95)-60:]\n",
    "x_test_vol, y_test_vol = [], data['Volatility'].values[int(len(scaled_volatility)*0.95):]\n",
    "for i in range(60, len(test_volatility)):\n",
    "    x_test_vol.append(test_volatility[i-60:i, 0])\n",
    "x_test_vol = np.array(x_test_vol)\n",
    "x_test_vol = np.reshape(x_test_vol, (x_test_vol.shape[0], x_test_vol.shape[1], 1))"
   ]
  },
  {
   "cell_type": "code",
   "execution_count": null,
   "id": "526ddfad",
   "metadata": {},
   "outputs": [],
   "source": [
    "predictions_volatility = model_volatility.predict(x_test_vol)\n",
    "predictions_volatility = scaler.inverse_transform(np.reshape(predictions_volatility, (predictions_volatility.shape[0], 1)))"
   ]
  },
  {
   "cell_type": "code",
   "execution_count": null,
   "id": "9f8515f5",
   "metadata": {},
   "outputs": [],
   "source": [
    "plt.figure(figsize=(12,6))\n",
    "plt.title('Prediction vs Real Volatility of ' + stock)\n",
    "plt.xlabel('Date')\n",
    "plt.ylabel('Volatility')\n",
    "plt.plot(y_test_vol, label='True Volatility')\n",
    "plt.plot(predictions_volatility, label='Predicted Volatility')\n",
    "plt.legend()\n",
    "plt.show()"
   ]
  },
  {
   "cell_type": "code",
   "execution_count": null,
   "id": "e084cff2",
   "metadata": {},
   "outputs": [],
   "source": [
    "rmse_volatility = np.sqrt(mean_squared_error(y_test_vol, predictions_volatility))\n",
    "print(\"The Root Mean Squared Error (RMSE) for volatility is:\", rmse_volatility)"
   ]
  },
  {
   "cell_type": "code",
   "execution_count": null,
   "id": "4abcd9fb",
   "metadata": {},
   "outputs": [],
   "source": [
    "forecast_days = 30\n",
    "input_seq = scaled_data[-60:].tolist()\n",
    "\n",
    "for _ in range(forecast_days):\n",
    "    # Use the last 60 days to predict the next day\n",
    "    next_input = np.array(input_seq[-60:])\n",
    "    next_input = np.reshape(next_input, (1, 60, 1))\n",
    "    \n",
    "    predicted_price = model.predict(next_input)\n",
    "    \n",
    "    # Append the predicted price to the input sequence\n",
    "    input_seq.append(predicted_price[0].tolist())\n",
    "\n",
    "# Extract the forecasted days and inverse transform for real price\n",
    "forecasted_prices = scaler.inverse_transform(input_seq[-forecast_days:])\n",
    "\n",
    "# Plot the results\n",
    "plt.figure(figsize=(12,6))\n",
    "plt.title(f'Forecasted Stock Price of {stock} for Next {forecast_days} Days')\n",
    "plt.xlabel('Days')\n",
    "plt.ylabel('Close Price (USD)')\n",
    "plt.plot(forecasted_prices, label='Forecasted Price')\n",
    "plt.legend()\n",
    "plt.show()"
   ]
  }
 ],
 "metadata": {
  "kernelspec": {
   "display_name": "Python 3 (ipykernel)",
   "language": "python",
   "name": "python3"
  },
  "language_info": {
   "codemirror_mode": {
    "name": "ipython",
    "version": 3
   },
   "file_extension": ".py",
   "mimetype": "text/x-python",
   "name": "python",
   "nbconvert_exporter": "python",
   "pygments_lexer": "ipython3",
   "version": "3.11.4"
  }
 },
 "nbformat": 4,
 "nbformat_minor": 5
}

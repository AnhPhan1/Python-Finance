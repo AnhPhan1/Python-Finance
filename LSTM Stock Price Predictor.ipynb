{
 "cells": [
  {
   "cell_type": "code",
   "execution_count": null,
   "id": "cf2c18d7",
   "metadata": {
    "scrolled": false
   },
   "outputs": [],
   "source": [
    "#Author: Anh Phan (GitHub: @anhphan1, Email: anhphan@udel.edu, Phone: (302) 345-5885)\n",
    "\n",
    "%pip install yfinance\n",
    "import yfinance as yf\n",
    "import numpy as np\n",
    "import pandas as pd\n",
    "import matplotlib.pyplot as plt\n",
    "from sklearn.preprocessing import MinMaxScaler\n",
    "from sklearn.metrics import mean_squared_error\n",
    "%pip install keras\n",
    "%pip install tensorflow\n",
    "import tensorflow as tf\n",
    "from keras.models import Sequential\n",
    "from keras.layers import Dense, LSTM\n",
    "yf.pdr_override()"
   ]
  },
  {
   "cell_type": "code",
   "execution_count": null,
   "id": "bcbecd9f",
   "metadata": {},
   "outputs": [],
   "source": [
    "stock = 'AAPL'\n",
    "data = yf.download(stock, start='2020-01-01', end='2022-01-01')\n",
    "data = data[['Close']]"
   ]
  },
  {
   "cell_type": "code",
   "execution_count": null,
   "id": "dce2db3d",
   "metadata": {
    "scrolled": true
   },
   "outputs": [],
   "source": [
    "plt.figure(figsize=(12,6))\n",
    "plt.title('Historical Stock Price of ' + stock)\n",
    "plt.xlabel('Date')\n",
    "plt.ylabel('Close Price (USD)')\n",
    "plt.plot(data['Close'])\n",
    "plt.show()"
   ]
  },
  {
   "cell_type": "code",
   "execution_count": 5,
   "id": "187fef45",
   "metadata": {},
   "outputs": [],
   "source": [
    "scaler = MinMaxScaler(feature_range=(0,1))\n",
    "scaled_data = scaler.fit_transform(data)"
   ]
  },
  {
   "cell_type": "code",
   "execution_count": 6,
   "id": "b88945ea",
   "metadata": {},
   "outputs": [],
   "source": [
    "train_data = scaled_data[0:int(len(scaled_data)*0.95), :]\n",
    "x_train, y_train = [], []\n",
    "for i in range(240, len(train_data)):\n",
    "    x_train.append(train_data[i-240:i, 0])\n",
    "    y_train.append(train_data[i, 0])\n",
    "x_train, y_train = np.array(x_train), np.array(y_train)\n",
    "x_train = np.reshape(x_train, (x_train.shape[0], x_train.shape[1], 1))"
   ]
  },
  {
   "cell_type": "code",
   "execution_count": null,
   "id": "a91b77bd",
   "metadata": {},
   "outputs": [],
   "source": [
    "from keras.callbacks import EarlyStopping\n",
    "\n",
    "class StockLSTMTrainer:\n",
    "\n",
    "    # ... [rest of the class remains unchanged]\n",
    "\n",
    "    def preprocess_data(self, window_size=240, validation_split=0.1):\n",
    "        self.scaled_data = self.scaler.fit_transform(self.data)\n",
    "        x, y = [], []\n",
    "        for i in range(window_size, len(self.scaled_data)):\n",
    "            x.append(self.scaled_data[i-window_size:i, 0])\n",
    "            y.append(self.scaled_data[i, 0])\n",
    "        x, y = np.array(x), np.array(y)\n",
    "        x = np.reshape(x, (x.shape[0], x.shape[1], 1))\n",
    "        \n",
    "        # Splitting into training and validation sets\n",
    "        val_size = int(validation_split * len(x))\n",
    "        x_train, x_val = x[:-val_size], x[-val_size:]\n",
    "        y_train, y_val = y[:-val_size], y[-val_size:]\n",
    "        \n",
    "        return (x_train, y_train), (x_val, y_val)\n",
    "\n",
    "    def train(self, epochs=10, batch_size=64):\n",
    "        (x_train, y_train), (x_val, y_val) = self.preprocess_data()\n",
    "        if not self.model:\n",
    "            self.build_model(input_shape=(x_train.shape[1], 1))\n",
    "\n",
    "    \n",
    "        early_stop = EarlyStopping(monitor='val_loss', patience=5, restore_best_weights=True)\n",
    "        \n",
    "        self.model.fit(x_train, y_train, \n",
    "                       epochs=epochs, \n",
    "                       batch_size=batch_size,\n",
    "                       validation_data=(x_val, y_val),\n",
    "                       callbacks=[early_stop])"
   ]
  },
  {
   "cell_type": "code",
   "execution_count": null,
   "id": "62859687",
   "metadata": {},
   "outputs": [],
   "source": [
    "model = Sequential()\n",
    "model.add(LSTM(units=50, return_sequences=True, input_shape=(x_train.shape[1], 1)))\n",
    "model.add(LSTM(units=50))\n",
    "model.add(Dense(1))\n",
    "model.compile(optimizer='adam', loss='mean_squared_error')\n",
    "model.fit(x_train, y_train, epochs=12, batch_size=70)"
   ]
  },
  {
   "cell_type": "code",
   "execution_count": 8,
   "id": "08dd4084",
   "metadata": {},
   "outputs": [],
   "source": [
    "test_data = scaled_data[int(len(scaled_data)*0.95)-60:, :]\n",
    "x_test, y_test = [], data[int(len(scaled_data)*0.95):].values\n",
    "for i in range(240, len(test_data)):\n",
    "    x_test.append(test_data[i-240:i, 0])\n",
    "x_test = np.array(x_test)\n",
    "x_test = np.reshape(x_test, (x_test.shape[0], x_test.shape[1], 1))"
   ]
  },
  {
   "cell_type": "code",
   "execution_count": null,
   "id": "744d0f75",
   "metadata": {},
   "outputs": [],
   "source": [
    "predictions = model.predict(x_test)\n",
    "predictions = scaler.inverse_transform(np.reshape(predictions, (predictions.shape[0], 1)))"
   ]
  },
  {
   "cell_type": "code",
   "execution_count": null,
   "id": "87ff0b64",
   "metadata": {},
   "outputs": [],
   "source": [
    "plt.figure(figsize=(12,6))\n",
    "plt.title('Prediction vs Real Stock Price of ' + stock)\n",
    "plt.xlabel('Date')\n",
    "plt.ylabel('Close Price (USD)')\n",
    "plt.plot(y_test, label='True Price')\n",
    "plt.plot(predictions, label='Predicted Price')\n",
    "plt.legend()\n",
    "plt.show()"
   ]
  },
  {
   "cell_type": "code",
   "execution_count": 11,
   "id": "e93d67c4",
   "metadata": {},
   "outputs": [
    {
     "name": "stdout",
     "output_type": "stream",
     "text": [
      "The Root Mean Squared Error (RMSE) is: 13.171473003618004\n"
     ]
    }
   ],
   "source": [
    "rmse = np.sqrt(mean_squared_error(y_test, predictions))\n",
    "print(\"The Root Mean Squared Error (RMSE) is:\", rmse)"
   ]
  },
  {
   "cell_type": "code",
   "execution_count": 12,
   "id": "3f9feadb",
   "metadata": {},
   "outputs": [],
   "source": [
    "forecast_days = 30\n",
    "input_seq = scaled_data[-60:].tolist()"
   ]
  },
  {
   "cell_type": "code",
   "execution_count": null,
   "id": "2c230b1f",
   "metadata": {},
   "outputs": [],
   "source": [
    "for _ in range(forecast_days):\n",
    "\n",
    "    next_input = np.array(input_seq[-60:])\n",
    "    next_input = np.reshape(next_input, (1, 60, 1))\n",
    "    \n",
    "    predicted_price = model.predict(next_input)\n",
    "    \n",
    "\n",
    "    input_seq.append(predicted_price[0].tolist())"
   ]
  },
  {
   "cell_type": "code",
   "execution_count": 14,
   "id": "0ca3926c",
   "metadata": {},
   "outputs": [],
   "source": [
    "forecasted_prices = scaler.inverse_transform(input_seq[-forecast_days:])"
   ]
  },
  {
   "cell_type": "code",
   "execution_count": null,
   "id": "2047840a",
   "metadata": {},
   "outputs": [],
   "source": [
    "plt.figure(figsize=(12,6))\n",
    "plt.title(f'Forecasted Stock Price of {stock} for Next {forecast_days} Days')\n",
    "plt.xlabel('Days')\n",
    "plt.ylabel('Close Price (USD)')\n",
    "plt.plot(forecasted_prices, label='Forecasted Price')\n",
    "plt.legend()\n",
    "plt.show()"
   ]
  }
 ],
 "metadata": {
  "kernelspec": {
   "display_name": "Python 3 (ipykernel)",
   "language": "python",
   "name": "python3"
  },
  "language_info": {
   "codemirror_mode": {
    "name": "ipython",
    "version": 3
   },
   "file_extension": ".py",
   "mimetype": "text/x-python",
   "name": "python",
   "nbconvert_exporter": "python",
   "pygments_lexer": "ipython3",
   "version": "3.11.4"
  }
 },
 "nbformat": 4,
 "nbformat_minor": 5
}

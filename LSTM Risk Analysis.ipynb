{
 "cells": [
  {
   "cell_type": "code",
   "execution_count": null,
   "id": "16b5598c",
   "metadata": {},
   "outputs": [],
   "source": [
    "#Author: Anh Phan (GitHub: @anhphan1, Email: anhphan@udel.edu, Phone: (302) 345-5885)\n",
    "\n",
    "\n",
    "%pip install yfinance\n",
    "import yfinance as yf\n",
    "import numpy as np\n",
    "import pandas as pd\n",
    "import matplotlib.pyplot as plt\n",
    "from sklearn.preprocessing import MinMaxScaler\n",
    "from sklearn.metrics import mean_squared_error\n",
    "%pip install keras\n",
    "%pip install tensorflow\n",
    "import tensorflow as tf\n",
    "from keras.models import Sequential\n",
    "from keras.layers import Dense, LSTM"
   ]
  },
  {
   "cell_type": "code",
   "execution_count": null,
   "id": "fb5d7848",
   "metadata": {},
   "outputs": [],
   "source": [
    "stock = 'AAPL'\n",
    "data = yf.download(stock, start='2020-01-01', end='2022-01-01')"
   ]
  },
  {
   "cell_type": "code",
   "execution_count": null,
   "id": "5331e1e9",
   "metadata": {},
   "outputs": [],
   "source": [
    "data['Daily_Return'] = data['Close'].pct_change().fillna(0)\n",
    "data['Volatility'] = data['Daily_Return'].rolling(window=21).std().fillna(0)"
   ]
  },
  {
   "cell_type": "code",
   "execution_count": null,
   "id": "e7b80aff",
   "metadata": {},
   "outputs": [],
   "source": [
    "plt.figure(figsize=(12,6))\n",
    "plt.title('Historical Volatility of ' + stock)\n",
    "plt.xlabel('Date')\n",
    "plt.ylabel('Volatility')\n",
    "plt.plot(data['Volatility'])\n",
    "plt.show()"
   ]
  },
  {
   "cell_type": "code",
   "execution_count": null,
   "id": "fe073867",
   "metadata": {},
   "outputs": [],
   "source": [
    "scaler = MinMaxScaler(feature_range=(0,1))\n",
    "scaled_volatility = scaler.fit_transform(data['Volatility'].values.reshape(-1, 1))"
   ]
  },
  {
   "cell_type": "code",
   "execution_count": null,
   "id": "b8d056c2",
   "metadata": {},
   "outputs": [],
   "source": [
    "train_volatility = scaled_volatility[0:int(len(scaled_volatility)*0.8)]\n",
    "x_train_vol, y_train_vol = [], []\n",
    "for i in range(60, len(train_volatility)):\n",
    "    x_train_vol.append(train_volatility[i-60:i, 0])\n",
    "    y_train_vol.append(train_volatility[i, 0])\n",
    "x_train_vol, y_train_vol = np.array(x_train_vol), np.array(y_train_vol)\n",
    "x_train_vol = np.reshape(x_train_vol, (x_train_vol.shape[0], x_train_vol.shape[1], 1))"
   ]
  },
  {
   "cell_type": "code",
   "execution_count": null,
   "id": "23b9966f",
   "metadata": {},
   "outputs": [],
   "source": [
    "model_volatility = Sequential()\n",
    "model_volatility.add(LSTM(units=50, return_sequences=True, input_shape=(x_train_vol.shape[1], 1)))\n",
    "model_volatility.add(LSTM(units=50))\n",
    "model_volatility.add(Dense(1))\n",
    "model_volatility.compile(optimizer='adam', loss='mean_squared_error')\n",
    "model_volatility.fit(x_train_vol, y_train_vol, epochs=10, batch_size=64)"
   ]
  },
  {
   "cell_type": "code",
   "execution_count": null,
   "id": "e0ce0cd1",
   "metadata": {},
   "outputs": [],
   "source": [
    "test_volatility = scaled_volatility[int(len(scaled_volatility)*0.8)-60:]\n",
    "x_test_vol, y_test_vol = [], data['Volatility'].values[int(len(scaled_volatility)*0.8):]\n",
    "for i in range(60, len(test_volatility)):\n",
    "    x_test_vol.append(test_volatility[i-60:i, 0])\n",
    "x_test_vol = np.array(x_test_vol)\n",
    "x_test_vol = np.reshape(x_test_vol, (x_test_vol.shape[0], x_test_vol.shape[1], 1))"
   ]
  },
  {
   "cell_type": "code",
   "execution_count": null,
   "id": "a06a74f9",
   "metadata": {},
   "outputs": [],
   "source": [
    "predictions_volatility = model_volatility.predict(x_test_vol)\n",
    "predictions_volatility = scaler.inverse_transform(np.reshape(predictions_volatility, (predictions_volatility.shape[0], 1)))"
   ]
  },
  {
   "cell_type": "code",
   "execution_count": null,
   "id": "4b10a0ae",
   "metadata": {},
   "outputs": [],
   "source": [
    "plt.figure(figsize=(12,6))\n",
    "plt.title('True vs Predicted Volatility of ' + stock)\n",
    "plt.xlabel('Date')\n",
    "plt.ylabel('Volatility')\n",
    "plt.plot(y_test_vol, label='True Volatility')\n",
    "plt.plot(predictions_volatility, label='Predicted Volatility')\n",
    "plt.legend()\n",
    "plt.show()"
   ]
  },
  {
   "cell_type": "code",
   "execution_count": null,
   "id": "8cd3a3f0",
   "metadata": {},
   "outputs": [],
   "source": [
    "rmse_volatility = np.sqrt(mean_squared_error(y_test_vol, predictions_volatility))\n",
    "print(\"The Root Mean Squared Error (RMSE) for volatility prediction is:\", rmse_volatility)"
   ]
  }
 ],
 "metadata": {
  "kernelspec": {
   "display_name": "Python 3 (ipykernel)",
   "language": "python",
   "name": "python3"
  },
  "language_info": {
   "codemirror_mode": {
    "name": "ipython",
    "version": 3
   },
   "file_extension": ".py",
   "mimetype": "text/x-python",
   "name": "python",
   "nbconvert_exporter": "python",
   "pygments_lexer": "ipython3",
   "version": "3.11.4"
  }
 },
 "nbformat": 4,
 "nbformat_minor": 5
}

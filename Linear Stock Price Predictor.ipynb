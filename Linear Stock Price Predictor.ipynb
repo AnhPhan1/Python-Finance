{
 "cells": [
  {
   "cell_type": "code",
   "execution_count": null,
   "metadata": {
    "execution": {
     "iopub.execute_input": "2021-06-20T23:37:25.617Z",
     "iopub.status.busy": "2021-06-20T23:37:25.614Z",
     "iopub.status.idle": "2021-06-20T23:37:26.287Z",
     "shell.execute_reply": "2021-06-20T23:37:26.303Z"
    },
    "jupyter": {
     "outputs_hidden": false,
     "source_hidden": false
    },
    "nteract": {
     "transient": {
      "deleting": false
     }
    }
   },
   "outputs": [],
   "source": [
    "#Author: Anh Phan (GitHub: @anhphan1, Email: anhphan@udel.edu, Phone: (302) 345-5885)\n",
    "\n",
    "import numpy as np\n",
    "import pandas as pd\n",
    "from sklearn.linear_model import LinearRegression\n",
    "%pip install yfinance\n",
    "import yfinance as yf\n",
    "yf.pdr_override()"
   ]
  },
  {
   "cell_type": "code",
   "execution_count": null,
   "metadata": {
    "execution": {
     "iopub.execute_input": "2021-06-20T23:37:26.296Z",
     "iopub.status.busy": "2021-06-20T23:37:26.292Z",
     "iopub.status.idle": "2021-06-20T23:37:26.998Z",
     "shell.execute_reply": "2021-06-20T23:37:26.994Z"
    },
    "inputHidden": false,
    "outputHidden": false
   },
   "outputs": [],
   "source": [
    "symbol = 'AAPL'\n",
    "start = '2020-01-01' \n",
    "end = '2021-01-01'\n",
    "df = yf.download(symbol, start, end)\n",
    "df = df.reset_index()"
   ]
  },
  {
   "cell_type": "code",
   "execution_count": null,
   "metadata": {
    "execution": {
     "iopub.execute_input": "2021-06-20T23:37:27.006Z",
     "iopub.status.busy": "2021-06-20T23:37:27.003Z",
     "iopub.status.idle": "2021-06-20T23:37:27.029Z",
     "shell.execute_reply": "2021-06-20T23:37:27.197Z"
    },
    "inputHidden": false,
    "outputHidden": false
   },
   "outputs": [],
   "source": [
    "df.head()"
   ]
  },
  {
   "cell_type": "code",
   "execution_count": 4,
   "metadata": {
    "execution": {
     "iopub.execute_input": "2021-06-20T23:37:27.045Z",
     "iopub.status.busy": "2021-06-20T23:37:27.042Z",
     "iopub.status.idle": "2021-06-20T23:37:27.053Z",
     "shell.execute_reply": "2021-06-20T23:37:27.199Z"
    },
    "inputHidden": false,
    "outputHidden": false
   },
   "outputs": [
    {
     "data": {
      "text/html": [
       "<div>\n",
       "<style scoped>\n",
       "    .dataframe tbody tr th:only-of-type {\n",
       "        vertical-align: middle;\n",
       "    }\n",
       "\n",
       "    .dataframe tbody tr th {\n",
       "        vertical-align: top;\n",
       "    }\n",
       "\n",
       "    .dataframe thead th {\n",
       "        text-align: right;\n",
       "    }\n",
       "</style>\n",
       "<table border=\"1\" class=\"dataframe\">\n",
       "  <thead>\n",
       "    <tr style=\"text-align: right;\">\n",
       "      <th></th>\n",
       "      <th>Date</th>\n",
       "      <th>Open</th>\n",
       "      <th>High</th>\n",
       "      <th>Low</th>\n",
       "      <th>Close</th>\n",
       "      <th>Adj Close</th>\n",
       "      <th>Volume</th>\n",
       "    </tr>\n",
       "  </thead>\n",
       "  <tbody>\n",
       "    <tr>\n",
       "      <th>248</th>\n",
       "      <td>2020-12-24</td>\n",
       "      <td>131.320007</td>\n",
       "      <td>133.460007</td>\n",
       "      <td>131.100006</td>\n",
       "      <td>131.970001</td>\n",
       "      <td>131.549637</td>\n",
       "      <td>54930100</td>\n",
       "    </tr>\n",
       "    <tr>\n",
       "      <th>249</th>\n",
       "      <td>2020-12-28</td>\n",
       "      <td>133.990005</td>\n",
       "      <td>137.339996</td>\n",
       "      <td>133.509995</td>\n",
       "      <td>136.690002</td>\n",
       "      <td>136.254608</td>\n",
       "      <td>124486200</td>\n",
       "    </tr>\n",
       "    <tr>\n",
       "      <th>250</th>\n",
       "      <td>2020-12-29</td>\n",
       "      <td>138.050003</td>\n",
       "      <td>138.789993</td>\n",
       "      <td>134.339996</td>\n",
       "      <td>134.869995</td>\n",
       "      <td>134.440399</td>\n",
       "      <td>121047300</td>\n",
       "    </tr>\n",
       "    <tr>\n",
       "      <th>251</th>\n",
       "      <td>2020-12-30</td>\n",
       "      <td>135.580002</td>\n",
       "      <td>135.990005</td>\n",
       "      <td>133.399994</td>\n",
       "      <td>133.720001</td>\n",
       "      <td>133.294067</td>\n",
       "      <td>96452100</td>\n",
       "    </tr>\n",
       "    <tr>\n",
       "      <th>252</th>\n",
       "      <td>2020-12-31</td>\n",
       "      <td>134.080002</td>\n",
       "      <td>134.740005</td>\n",
       "      <td>131.720001</td>\n",
       "      <td>132.690002</td>\n",
       "      <td>132.267349</td>\n",
       "      <td>99116600</td>\n",
       "    </tr>\n",
       "  </tbody>\n",
       "</table>\n",
       "</div>"
      ],
      "text/plain": [
       "          Date        Open        High         Low       Close   Adj Close  \\\n",
       "248 2020-12-24  131.320007  133.460007  131.100006  131.970001  131.549637   \n",
       "249 2020-12-28  133.990005  137.339996  133.509995  136.690002  136.254608   \n",
       "250 2020-12-29  138.050003  138.789993  134.339996  134.869995  134.440399   \n",
       "251 2020-12-30  135.580002  135.990005  133.399994  133.720001  133.294067   \n",
       "252 2020-12-31  134.080002  134.740005  131.720001  132.690002  132.267349   \n",
       "\n",
       "        Volume  \n",
       "248   54930100  \n",
       "249  124486200  \n",
       "250  121047300  \n",
       "251   96452100  \n",
       "252   99116600  "
      ]
     },
     "execution_count": 4,
     "metadata": {},
     "output_type": "execute_result"
    }
   ],
   "source": [
    "df.tail()"
   ]
  },
  {
   "cell_type": "code",
   "execution_count": 5,
   "metadata": {
    "execution": {
     "iopub.execute_input": "2021-06-20T23:37:27.061Z",
     "iopub.status.busy": "2021-06-20T23:37:27.058Z",
     "iopub.status.idle": "2021-06-20T23:37:27.067Z",
     "shell.execute_reply": "2021-06-20T23:37:27.200Z"
    },
    "inputHidden": false,
    "outputHidden": false
   },
   "outputs": [],
   "source": [
    "X_train = df[df.columns[1:5]] # data_aal[['open', 'high', 'low', 'close']]\n",
    "Y_train = df['Adj Close']"
   ]
  },
  {
   "cell_type": "code",
   "execution_count": 6,
   "metadata": {
    "execution": {
     "iopub.execute_input": "2021-06-20T23:37:27.122Z",
     "iopub.status.busy": "2021-06-20T23:37:27.074Z",
     "iopub.status.idle": "2021-06-20T23:37:27.129Z",
     "shell.execute_reply": "2021-06-20T23:37:27.203Z"
    },
    "inputHidden": false,
    "outputHidden": false
   },
   "outputs": [],
   "source": [
    "X_train = X_train.values[:-1]\n",
    "Y_train = Y_train.values[1:]"
   ]
  },
  {
   "cell_type": "code",
   "execution_count": 7,
   "metadata": {
    "execution": {
     "iopub.execute_input": "2021-06-20T23:37:27.137Z",
     "iopub.status.busy": "2021-06-20T23:37:27.133Z",
     "iopub.status.idle": "2021-06-20T23:37:27.142Z",
     "shell.execute_reply": "2021-06-20T23:37:27.204Z"
    },
    "inputHidden": false,
    "outputHidden": false
   },
   "outputs": [],
   "source": [
    "lr = LinearRegression()"
   ]
  },
  {
   "cell_type": "code",
   "execution_count": null,
   "metadata": {
    "execution": {
     "iopub.execute_input": "2021-06-20T23:37:27.152Z",
     "iopub.status.busy": "2021-06-20T23:37:27.148Z",
     "iopub.status.idle": "2021-06-20T23:37:27.158Z",
     "shell.execute_reply": "2021-06-20T23:37:27.206Z"
    },
    "inputHidden": false,
    "outputHidden": false
   },
   "outputs": [],
   "source": [
    "lr.fit(X_train, Y_train)"
   ]
  },
  {
   "cell_type": "code",
   "execution_count": 9,
   "metadata": {
    "execution": {
     "iopub.execute_input": "2021-06-20T23:37:27.166Z",
     "iopub.status.busy": "2021-06-20T23:37:27.163Z",
     "iopub.status.idle": "2021-06-20T23:37:27.170Z",
     "shell.execute_reply": "2021-06-20T23:37:27.208Z"
    },
    "inputHidden": false,
    "outputHidden": false
   },
   "outputs": [],
   "source": [
    "X_test = df[df.columns[1:5]].values[:-1]\n",
    "Y_test = df['Adj Close'].values[1:]"
   ]
  },
  {
   "cell_type": "code",
   "execution_count": null,
   "metadata": {
    "execution": {
     "iopub.execute_input": "2021-06-20T23:37:27.178Z",
     "iopub.status.busy": "2021-06-20T23:37:27.175Z",
     "iopub.status.idle": "2021-06-20T23:37:27.185Z",
     "shell.execute_reply": "2021-06-20T23:37:27.210Z"
    },
    "inputHidden": false,
    "outputHidden": false
   },
   "outputs": [],
   "source": [
    "lr.score(X_test, Y_test)"
   ]
  },
  {
   "cell_type": "code",
   "execution_count": null,
   "metadata": {
    "execution": {
     "iopub.execute_input": "2021-06-20T23:37:27.193Z",
     "iopub.status.busy": "2021-06-20T23:37:27.190Z",
     "iopub.status.idle": "2021-06-20T23:38:55.738Z",
     "shell.execute_reply": "2021-06-20T23:38:55.733Z"
    },
    "inputHidden": false,
    "outputHidden": false
   },
   "outputs": [],
   "source": [
    "opening_price = float(input('Open: '))\n",
    "high = float(input('High: '))\n",
    "low = float(input('Low: '))\n",
    "close = float(input('Close: '))\n",
    "print('My Prediction the opening price will be:', lr.predict([[opening_price, high, low, close]])[0])"
   ]
  }
 ],
 "metadata": {
  "kernel_info": {
   "name": "python3"
  },
  "kernelspec": {
   "display_name": "Python 3 (ipykernel)",
   "language": "python",
   "name": "python3"
  },
  "language_info": {
   "codemirror_mode": {
    "name": "ipython",
    "version": 3
   },
   "file_extension": ".py",
   "mimetype": "text/x-python",
   "name": "python",
   "nbconvert_exporter": "python",
   "pygments_lexer": "ipython3",
   "version": "3.11.4"
  },
  "nteract": {
   "version": "0.28.0"
  }
 },
 "nbformat": 4,
 "nbformat_minor": 4
}
